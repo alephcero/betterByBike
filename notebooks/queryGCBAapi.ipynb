{
 "cells": [
  {
   "cell_type": "code",
   "execution_count": 2,
   "metadata": {
    "collapsed": true
   },
   "outputs": [],
   "source": [
    "import numpy as np\n",
    "import json\n",
    "import urllib\n",
    "import geopandas as gpd\n",
    "\n",
    "%%javascript\n",
    "$.getScript('https://kmahelona.github.io/ipython_notebook_goodies/ipython_notebook_toc.js')"
   ]
  },
  {
   "cell_type": "code",
   "execution_count": 3,
   "metadata": {
    "collapsed": false
   },
   "outputs": [],
   "source": [
    "#https://github.com/mfalcon/yomemudo/blob/master/api.py\n",
    "#lat y -34\n",
    "#long x -58 \n",
    "def queryUSIG(x,y,destino,tipo_transporte):\n",
    "    origen = inverseGeocode(x = x,y = y)\n",
    "    if origen[0] == None:\n",
    "        return np.nan\n",
    "    else:\n",
    "        resultado = get_trips(o_x = origen[0], o_y = origen[1], d_x = destino[0], d_y =destino[1],\n",
    "                              tipo_transporte = tipo_transporte)\n",
    "        return resultado['tiempo']\n",
    "    \n",
    "def inverseGeocode(x,y):\n",
    "    url = 'http://ws.usig.buenosaires.gob.ar/geocoder/2.2/reversegeocoding?x={0}&y={1}'.format(x,y)\n",
    "    response = urllib.urlopen(url)\n",
    "    data = json.loads(response.read()[1:-1])\n",
    "    \n",
    "    return (data['puerta_x'],data['puerta_y'])\n",
    "\n",
    "def get_trips(o_x, o_y, d_x, d_y, tipo_transporte):\n",
    "    #version resumida\n",
    "    #url = \"http://recorridos.usig.buenosaires.gob.ar/2.0/consultar_recorridos?tipo={4}&origen={0}%2C{1}&destino={2}%2C{3}\".format(o_x, o_y, d_x, d_y, tipo_transporte)  \n",
    "    #completa con opciones explicitas\n",
    "    url = \"http://recorridos.usig.buenosaires.gob.ar/2.0/consultar_recorridos?tipo={4}&gml=true&precargar=3&opciones_caminata=800&opciones_medios_colectivo=true&opciones_medios_subte=true&opciones_medios_tren=true&opciones_prioridad=avenidas&opciones_incluir_autopistas=true&opciones_cortes=true&max_results=1&origen={0}%2C{1}&destino={2}%2C{3}\".format(o_x, o_y, d_x, d_y, tipo_transporte);\n",
    "    response = urllib.urlopen(url)\n",
    "    viaje = json.loads(response.read())\n",
    "    try:\n",
    "        viaje = json.loads(viaje['planning'][0])\n",
    "        return viaje\n",
    "    except IndexError:\n",
    "        return np.nan\n",
    "\n"
   ]
  },
  {
   "cell_type": "code",
   "execution_count": 4,
   "metadata": {
    "collapsed": true
   },
   "outputs": [],
   "source": [
    "#fijar destino arbitrario en Peron 450\n",
    "destino = inverseGeocode(x = -58.373022,y=-34.605537)"
   ]
  },
  {
   "cell_type": "code",
   "execution_count": 5,
   "metadata": {
    "collapsed": false
   },
   "outputs": [
    {
     "data": {
      "text/html": [
       "<div>\n",
       "<table border=\"1\" class=\"dataframe\">\n",
       "  <thead>\n",
       "    <tr style=\"text-align: right;\">\n",
       "      <th></th>\n",
       "      <th>CO_FRAC_RA</th>\n",
       "      <th>tiemposMin</th>\n",
       "      <th>x</th>\n",
       "      <th>y</th>\n",
       "    </tr>\n",
       "  </thead>\n",
       "  <tbody>\n",
       "    <tr>\n",
       "      <th>0</th>\n",
       "      <td>1_1_1</td>\n",
       "      <td>21.533333</td>\n",
       "      <td>-58.368253</td>\n",
       "      <td>-34.587126</td>\n",
       "    </tr>\n",
       "    <tr>\n",
       "      <th>1</th>\n",
       "      <td>1_12_1</td>\n",
       "      <td>10.800000</td>\n",
       "      <td>-58.385199</td>\n",
       "      <td>-34.605043</td>\n",
       "    </tr>\n",
       "    <tr>\n",
       "      <th>2</th>\n",
       "      <td>1_12_10</td>\n",
       "      <td>3.083333</td>\n",
       "      <td>-58.376849</td>\n",
       "      <td>-34.605250</td>\n",
       "    </tr>\n",
       "    <tr>\n",
       "      <th>3</th>\n",
       "      <td>1_12_11</td>\n",
       "      <td>3.316667</td>\n",
       "      <td>-58.371612</td>\n",
       "      <td>-34.605709</td>\n",
       "    </tr>\n",
       "    <tr>\n",
       "      <th>4</th>\n",
       "      <td>1_12_2</td>\n",
       "      <td>11.433333</td>\n",
       "      <td>-58.383781</td>\n",
       "      <td>-34.604953</td>\n",
       "    </tr>\n",
       "  </tbody>\n",
       "</table>\n",
       "</div>"
      ],
      "text/plain": [
       "  CO_FRAC_RA  tiemposMin          x          y\n",
       "0      1_1_1   21.533333 -58.368253 -34.587126\n",
       "1     1_12_1   10.800000 -58.385199 -34.605043\n",
       "2    1_12_10    3.083333 -58.376849 -34.605250\n",
       "3    1_12_11    3.316667 -58.371612 -34.605709\n",
       "4     1_12_2   11.433333 -58.383781 -34.604953"
      ]
     },
     "execution_count": 5,
     "metadata": {},
     "output_type": "execute_result"
    }
   ],
   "source": [
    "# cargar radios de buenos aires\n",
    "radios = gpd.read_file('data/radioCentroids.shp')\n",
    "radios = radios.loc[:,['CO_FRAC_RA','tiemposMin','x','y']]\n",
    "radios.head()"
   ]
  },
  {
   "cell_type": "code",
   "execution_count": 7,
   "metadata": {
    "collapsed": false
   },
   "outputs": [
    {
     "name": "stdout",
     "output_type": "stream",
     "text": [
      "% 100.                                                                                                                                                                                                                                                                                                                                                                                                                                                                                                                                                                                                                                                                                                                                                                                                                                                                                                                                                                                                                                                                                                                                                                                                                                                                                                                                                                                                                                                                                                                                                                                                                                                                                                                                                                                                                                                                                                                                                                                                                                                                                                                                                                                                                                                                                                                                                                                                                                                                                                                                                                                                                                                                                                                                                                                                                                                                                                                                                                                                                                                                                                                                                                                                                                                                                                                                                                                                                                                                                                                                                                                                                                                                                                 \n"
     ]
    }
   ],
   "source": [
    "index = []\n",
    "tiemposBici = []\n",
    "for i in range(radios.shape[0]):\n",
    "    print '\\r',\"%\",str((i+1)*100./radios.shape[0])[:4],\n",
    "    index.append(i)\n",
    "    tiemposBici.append(queryUSIG(x=radios.x[i],y=radios.y[i],destino=destino,tipo_transporte='bici'))\n",
    "\n",
    "    radios['tiemposBici'] = tiemposBici"
   ]
  },
  {
   "cell_type": "code",
   "execution_count": 17,
   "metadata": {
    "collapsed": false
   },
   "outputs": [],
   "source": [
    "tiemposAuto = [queryUSIG(x=radios.x[i],y=radios.y[i],destino=destino,tipo_transporte='auto') for i in range(radios.shape[0])]\n",
    "radios['tiemposAuto'] = tiemposAuto\n"
   ]
  },
  {
   "cell_type": "code",
   "execution_count": 30,
   "metadata": {
    "collapsed": false
   },
   "outputs": [
    {
     "name": "stdout",
     "output_type": "stream",
     "text": [
      "% 97.3                                                                                                                                                                                                                                                                                                                                                                                                                                                                                                                                                                                                                                                                                                                                                                                                                                                                                                                                                                                                                                                                                                                                                                                                                                                                                                                                                                                                                                                                                                                                                                                                                                                                                                                                                                                                                                                                                                                                                                                                                                                                                                                                                                                                                                                                                                                                                                                                                                                                                                                                                                                                                                                                                                                                                                                                                                                                                                                                                                                                                                                                                                                                                                                                                                                                                                                                                                                                                                                                                                                                                                                                   "
     ]
    },
    {
     "ename": "IOError",
     "evalue": "('http protocol error', 0, 'got a bad status line', None)",
     "output_type": "error",
     "traceback": [
      "\u001b[0;31m---------------------------------------------------------------------------\u001b[0m",
      "\u001b[0;31mIOError\u001b[0m                                   Traceback (most recent call last)",
      "\u001b[0;32m<ipython-input-30-155251e5ab0b>\u001b[0m in \u001b[0;36m<module>\u001b[0;34m()\u001b[0m\n\u001b[1;32m      4\u001b[0m     \u001b[0;32mprint\u001b[0m \u001b[0;34m'\\r'\u001b[0m\u001b[0;34m,\u001b[0m\u001b[0;34m\"%\"\u001b[0m\u001b[0;34m,\u001b[0m\u001b[0mstr\u001b[0m\u001b[0;34m(\u001b[0m\u001b[0;34m(\u001b[0m\u001b[0mi\u001b[0m\u001b[0;34m+\u001b[0m\u001b[0;36m1\u001b[0m\u001b[0;34m)\u001b[0m\u001b[0;34m*\u001b[0m\u001b[0;36m100.\u001b[0m\u001b[0;34m/\u001b[0m\u001b[0mradios\u001b[0m\u001b[0;34m.\u001b[0m\u001b[0mshape\u001b[0m\u001b[0;34m[\u001b[0m\u001b[0;36m0\u001b[0m\u001b[0;34m]\u001b[0m\u001b[0;34m)\u001b[0m\u001b[0;34m[\u001b[0m\u001b[0;34m:\u001b[0m\u001b[0;36m4\u001b[0m\u001b[0;34m]\u001b[0m\u001b[0;34m,\u001b[0m\u001b[0;34m\u001b[0m\u001b[0m\n\u001b[1;32m      5\u001b[0m     \u001b[0mindex\u001b[0m\u001b[0;34m.\u001b[0m\u001b[0mappend\u001b[0m\u001b[0;34m(\u001b[0m\u001b[0mi\u001b[0m\u001b[0;34m)\u001b[0m\u001b[0;34m\u001b[0m\u001b[0m\n\u001b[0;32m----> 6\u001b[0;31m     \u001b[0mtiemposTransp\u001b[0m\u001b[0;34m.\u001b[0m\u001b[0mappend\u001b[0m\u001b[0;34m(\u001b[0m\u001b[0mqueryUSIG\u001b[0m\u001b[0;34m(\u001b[0m\u001b[0mx\u001b[0m\u001b[0;34m=\u001b[0m\u001b[0mradios\u001b[0m\u001b[0;34m.\u001b[0m\u001b[0mx\u001b[0m\u001b[0;34m[\u001b[0m\u001b[0mi\u001b[0m\u001b[0;34m]\u001b[0m\u001b[0;34m,\u001b[0m\u001b[0my\u001b[0m\u001b[0;34m=\u001b[0m\u001b[0mradios\u001b[0m\u001b[0;34m.\u001b[0m\u001b[0my\u001b[0m\u001b[0;34m[\u001b[0m\u001b[0mi\u001b[0m\u001b[0;34m]\u001b[0m\u001b[0;34m,\u001b[0m\u001b[0mdestino\u001b[0m\u001b[0;34m=\u001b[0m\u001b[0mdestino\u001b[0m\u001b[0;34m,\u001b[0m\u001b[0mtipo_transporte\u001b[0m\u001b[0;34m=\u001b[0m\u001b[0;34m'transporte'\u001b[0m\u001b[0;34m)\u001b[0m\u001b[0;34m)\u001b[0m\u001b[0;34m\u001b[0m\u001b[0m\n\u001b[0m",
      "\u001b[0;32m<ipython-input-3-f77836dae908>\u001b[0m in \u001b[0;36mqueryUSIG\u001b[0;34m(x, y, destino, tipo_transporte)\u001b[0m\n\u001b[1;32m      8\u001b[0m     \u001b[0;32melse\u001b[0m\u001b[0;34m:\u001b[0m\u001b[0;34m\u001b[0m\u001b[0m\n\u001b[1;32m      9\u001b[0m         resultado = get_trips(o_x = origen[0], o_y = origen[1], d_x = destino[0], d_y =destino[1],\n\u001b[0;32m---> 10\u001b[0;31m                               tipo_transporte = tipo_transporte)\n\u001b[0m\u001b[1;32m     11\u001b[0m         \u001b[0;32mreturn\u001b[0m \u001b[0mresultado\u001b[0m\u001b[0;34m[\u001b[0m\u001b[0;34m'tiempo'\u001b[0m\u001b[0;34m]\u001b[0m\u001b[0;34m\u001b[0m\u001b[0m\n\u001b[1;32m     12\u001b[0m \u001b[0;34m\u001b[0m\u001b[0m\n",
      "\u001b[0;32m<ipython-input-3-f77836dae908>\u001b[0m in \u001b[0;36mget_trips\u001b[0;34m(o_x, o_y, d_x, d_y, tipo_transporte)\u001b[0m\n\u001b[1;32m     23\u001b[0m     \u001b[0;31m#completa con opciones explicitas\u001b[0m\u001b[0;34m\u001b[0m\u001b[0;34m\u001b[0m\u001b[0m\n\u001b[1;32m     24\u001b[0m     \u001b[0murl\u001b[0m \u001b[0;34m=\u001b[0m \u001b[0;34m\"http://recorridos.usig.buenosaires.gob.ar/2.0/consultar_recorridos?tipo={4}&gml=true&precargar=3&opciones_caminata=800&opciones_medios_colectivo=true&opciones_medios_subte=true&opciones_medios_tren=true&opciones_prioridad=avenidas&opciones_incluir_autopistas=true&opciones_cortes=true&max_results=1&origen={0}%2C{1}&destino={2}%2C{3}\"\u001b[0m\u001b[0;34m.\u001b[0m\u001b[0mformat\u001b[0m\u001b[0;34m(\u001b[0m\u001b[0mo_x\u001b[0m\u001b[0;34m,\u001b[0m \u001b[0mo_y\u001b[0m\u001b[0;34m,\u001b[0m \u001b[0md_x\u001b[0m\u001b[0;34m,\u001b[0m \u001b[0md_y\u001b[0m\u001b[0;34m,\u001b[0m \u001b[0mtipo_transporte\u001b[0m\u001b[0;34m)\u001b[0m\u001b[0;34m;\u001b[0m\u001b[0;34m\u001b[0m\u001b[0m\n\u001b[0;32m---> 25\u001b[0;31m     \u001b[0mresponse\u001b[0m \u001b[0;34m=\u001b[0m \u001b[0murllib\u001b[0m\u001b[0;34m.\u001b[0m\u001b[0murlopen\u001b[0m\u001b[0;34m(\u001b[0m\u001b[0murl\u001b[0m\u001b[0;34m)\u001b[0m\u001b[0;34m\u001b[0m\u001b[0m\n\u001b[0m\u001b[1;32m     26\u001b[0m     \u001b[0mviaje\u001b[0m \u001b[0;34m=\u001b[0m \u001b[0mjson\u001b[0m\u001b[0;34m.\u001b[0m\u001b[0mloads\u001b[0m\u001b[0;34m(\u001b[0m\u001b[0mresponse\u001b[0m\u001b[0;34m.\u001b[0m\u001b[0mread\u001b[0m\u001b[0;34m(\u001b[0m\u001b[0;34m)\u001b[0m\u001b[0;34m)\u001b[0m\u001b[0;34m\u001b[0m\u001b[0m\n\u001b[1;32m     27\u001b[0m     \u001b[0;32mtry\u001b[0m\u001b[0;34m:\u001b[0m\u001b[0;34m\u001b[0m\u001b[0m\n",
      "\u001b[0;32m/home/pipe/anaconda2/lib/python2.7/urllib.pyc\u001b[0m in \u001b[0;36murlopen\u001b[0;34m(url, data, proxies, context)\u001b[0m\n\u001b[1;32m     85\u001b[0m         \u001b[0mopener\u001b[0m \u001b[0;34m=\u001b[0m \u001b[0m_urlopener\u001b[0m\u001b[0;34m\u001b[0m\u001b[0m\n\u001b[1;32m     86\u001b[0m     \u001b[0;32mif\u001b[0m \u001b[0mdata\u001b[0m \u001b[0;32mis\u001b[0m \u001b[0mNone\u001b[0m\u001b[0;34m:\u001b[0m\u001b[0;34m\u001b[0m\u001b[0m\n\u001b[0;32m---> 87\u001b[0;31m         \u001b[0;32mreturn\u001b[0m \u001b[0mopener\u001b[0m\u001b[0;34m.\u001b[0m\u001b[0mopen\u001b[0m\u001b[0;34m(\u001b[0m\u001b[0murl\u001b[0m\u001b[0;34m)\u001b[0m\u001b[0;34m\u001b[0m\u001b[0m\n\u001b[0m\u001b[1;32m     88\u001b[0m     \u001b[0;32melse\u001b[0m\u001b[0;34m:\u001b[0m\u001b[0;34m\u001b[0m\u001b[0m\n\u001b[1;32m     89\u001b[0m         \u001b[0;32mreturn\u001b[0m \u001b[0mopener\u001b[0m\u001b[0;34m.\u001b[0m\u001b[0mopen\u001b[0m\u001b[0;34m(\u001b[0m\u001b[0murl\u001b[0m\u001b[0;34m,\u001b[0m \u001b[0mdata\u001b[0m\u001b[0;34m)\u001b[0m\u001b[0;34m\u001b[0m\u001b[0m\n",
      "\u001b[0;32m/home/pipe/anaconda2/lib/python2.7/urllib.pyc\u001b[0m in \u001b[0;36mopen\u001b[0;34m(self, fullurl, data)\u001b[0m\n\u001b[1;32m    211\u001b[0m         \u001b[0;32mtry\u001b[0m\u001b[0;34m:\u001b[0m\u001b[0;34m\u001b[0m\u001b[0m\n\u001b[1;32m    212\u001b[0m             \u001b[0;32mif\u001b[0m \u001b[0mdata\u001b[0m \u001b[0;32mis\u001b[0m \u001b[0mNone\u001b[0m\u001b[0;34m:\u001b[0m\u001b[0;34m\u001b[0m\u001b[0m\n\u001b[0;32m--> 213\u001b[0;31m                 \u001b[0;32mreturn\u001b[0m \u001b[0mgetattr\u001b[0m\u001b[0;34m(\u001b[0m\u001b[0mself\u001b[0m\u001b[0;34m,\u001b[0m \u001b[0mname\u001b[0m\u001b[0;34m)\u001b[0m\u001b[0;34m(\u001b[0m\u001b[0murl\u001b[0m\u001b[0;34m)\u001b[0m\u001b[0;34m\u001b[0m\u001b[0m\n\u001b[0m\u001b[1;32m    214\u001b[0m             \u001b[0;32melse\u001b[0m\u001b[0;34m:\u001b[0m\u001b[0;34m\u001b[0m\u001b[0m\n\u001b[1;32m    215\u001b[0m                 \u001b[0;32mreturn\u001b[0m \u001b[0mgetattr\u001b[0m\u001b[0;34m(\u001b[0m\u001b[0mself\u001b[0m\u001b[0;34m,\u001b[0m \u001b[0mname\u001b[0m\u001b[0;34m)\u001b[0m\u001b[0;34m(\u001b[0m\u001b[0murl\u001b[0m\u001b[0;34m,\u001b[0m \u001b[0mdata\u001b[0m\u001b[0;34m)\u001b[0m\u001b[0;34m\u001b[0m\u001b[0m\n",
      "\u001b[0;32m/home/pipe/anaconda2/lib/python2.7/urllib.pyc\u001b[0m in \u001b[0;36mopen_http\u001b[0;34m(self, url, data)\u001b[0m\n\u001b[1;32m    355\u001b[0m             \u001b[0;31m# something went wrong with the HTTP status line\u001b[0m\u001b[0;34m\u001b[0m\u001b[0;34m\u001b[0m\u001b[0m\n\u001b[1;32m    356\u001b[0m             raise IOError, ('http protocol error', 0,\n\u001b[0;32m--> 357\u001b[0;31m                             'got a bad status line', None)\n\u001b[0m\u001b[1;32m    358\u001b[0m         \u001b[0;31m# According to RFC 2616, \"2xx\" code indicates that the client's\u001b[0m\u001b[0;34m\u001b[0m\u001b[0;34m\u001b[0m\u001b[0m\n\u001b[1;32m    359\u001b[0m         \u001b[0;31m# request was successfully received, understood, and accepted.\u001b[0m\u001b[0;34m\u001b[0m\u001b[0;34m\u001b[0m\u001b[0m\n",
      "\u001b[0;31mIOError\u001b[0m: ('http protocol error', 0, 'got a bad status line', None)"
     ]
    }
   ],
   "source": [
    "index = []\n",
    "tiemposTransp = []\n",
    "for i in range(radios.shape[0]):\n",
    "    print '\\r',\"%\",str((i+1)*100./radios.shape[0])[:4],\n",
    "    index.append(i)\n",
    "    tiemposTransp.append(queryUSIG(x=radios.x[i],y=radios.y[i],destino=destino,tipo_transporte='transporte'))\n"
   ]
  },
  {
   "cell_type": "code",
   "execution_count": 36,
   "metadata": {
    "collapsed": false
   },
   "outputs": [
    {
     "data": {
      "text/plain": [
       "3459"
      ]
     },
     "execution_count": 36,
     "metadata": {},
     "output_type": "execute_result"
    }
   ],
   "source": []
  },
  {
   "cell_type": "code",
   "execution_count": 37,
   "metadata": {
    "collapsed": false
   },
   "outputs": [
    {
     "name": "stdout",
     "output_type": "stream",
     "text": [
      "% 100.                                                                                              \n"
     ]
    }
   ],
   "source": [
    "\n",
    "\n",
    "for i in range(3459,radios.shape[0]):\n",
    "    print '\\r',\"%\",str((i+1)*100./radios.shape[0])[:4],\n",
    "    index.append(i)\n",
    "    tiemposTransp.append(queryUSIG(x=radios.x[i],y=radios.y[i],destino=destino,tipo_transporte='transporte'))\n"
   ]
  },
  {
   "cell_type": "code",
   "execution_count": 39,
   "metadata": {
    "collapsed": false
   },
   "outputs": [
    {
     "data": {
      "text/plain": [
       "3554"
      ]
     },
     "execution_count": 39,
     "metadata": {},
     "output_type": "execute_result"
    }
   ],
   "source": [
    "len(tiemposTransp)"
   ]
  },
  {
   "cell_type": "code",
   "execution_count": 40,
   "metadata": {
    "collapsed": false
   },
   "outputs": [
    {
     "data": {
      "text/plain": [
       "(3554, 6)"
      ]
     },
     "execution_count": 40,
     "metadata": {},
     "output_type": "execute_result"
    }
   ],
   "source": [
    "radios.shape"
   ]
  },
  {
   "cell_type": "code",
   "execution_count": 41,
   "metadata": {
    "collapsed": false
   },
   "outputs": [],
   "source": [
    "radios['tiemposTransp'] = tiemposTransp"
   ]
  },
  {
   "cell_type": "code",
   "execution_count": 42,
   "metadata": {
    "collapsed": false
   },
   "outputs": [
    {
     "data": {
      "text/html": [
       "<div>\n",
       "<table border=\"1\" class=\"dataframe\">\n",
       "  <thead>\n",
       "    <tr style=\"text-align: right;\">\n",
       "      <th></th>\n",
       "      <th>CO_FRAC_RA</th>\n",
       "      <th>tiemposMin</th>\n",
       "      <th>x</th>\n",
       "      <th>y</th>\n",
       "      <th>tiemposBici</th>\n",
       "      <th>tiemposAuto</th>\n",
       "      <th>tiemposTransp</th>\n",
       "    </tr>\n",
       "  </thead>\n",
       "  <tbody>\n",
       "    <tr>\n",
       "      <th>0</th>\n",
       "      <td>1_1_1</td>\n",
       "      <td>21.533333</td>\n",
       "      <td>-58.368253</td>\n",
       "      <td>-34.587126</td>\n",
       "      <td>15.0</td>\n",
       "      <td>10.0</td>\n",
       "      <td>14.0</td>\n",
       "    </tr>\n",
       "    <tr>\n",
       "      <th>1</th>\n",
       "      <td>1_12_1</td>\n",
       "      <td>10.800000</td>\n",
       "      <td>-58.385199</td>\n",
       "      <td>-34.605043</td>\n",
       "      <td>12.0</td>\n",
       "      <td>10.0</td>\n",
       "      <td>8.0</td>\n",
       "    </tr>\n",
       "    <tr>\n",
       "      <th>2</th>\n",
       "      <td>1_12_10</td>\n",
       "      <td>3.083333</td>\n",
       "      <td>-58.376849</td>\n",
       "      <td>-34.605250</td>\n",
       "      <td>4.0</td>\n",
       "      <td>6.0</td>\n",
       "      <td>8.0</td>\n",
       "    </tr>\n",
       "    <tr>\n",
       "      <th>3</th>\n",
       "      <td>1_12_11</td>\n",
       "      <td>3.316667</td>\n",
       "      <td>-58.371612</td>\n",
       "      <td>-34.605709</td>\n",
       "      <td>1.0</td>\n",
       "      <td>2.0</td>\n",
       "      <td>2.0</td>\n",
       "    </tr>\n",
       "    <tr>\n",
       "      <th>4</th>\n",
       "      <td>1_12_2</td>\n",
       "      <td>11.433333</td>\n",
       "      <td>-58.383781</td>\n",
       "      <td>-34.604953</td>\n",
       "      <td>9.0</td>\n",
       "      <td>7.0</td>\n",
       "      <td>8.0</td>\n",
       "    </tr>\n",
       "  </tbody>\n",
       "</table>\n",
       "</div>"
      ],
      "text/plain": [
       "  CO_FRAC_RA  tiemposMin          x          y  tiemposBici  tiemposAuto  \\\n",
       "0      1_1_1   21.533333 -58.368253 -34.587126         15.0         10.0   \n",
       "1     1_12_1   10.800000 -58.385199 -34.605043         12.0         10.0   \n",
       "2    1_12_10    3.083333 -58.376849 -34.605250          4.0          6.0   \n",
       "3    1_12_11    3.316667 -58.371612 -34.605709          1.0          2.0   \n",
       "4     1_12_2   11.433333 -58.383781 -34.604953          9.0          7.0   \n",
       "\n",
       "   tiemposTransp  \n",
       "0           14.0  \n",
       "1            8.0  \n",
       "2            8.0  \n",
       "3            2.0  \n",
       "4            8.0  "
      ]
     },
     "execution_count": 42,
     "metadata": {},
     "output_type": "execute_result"
    }
   ],
   "source": [
    "radios.head()"
   ]
  },
  {
   "cell_type": "code",
   "execution_count": 66,
   "metadata": {
    "collapsed": false
   },
   "outputs": [],
   "source": [
    "valores = radios.loc[:,['tiemposBici','tiemposAuto','tiemposTransp']]\n",
    "minvalues = valores.values.min(axis=1)\n",
    "better=[ ]\n",
    "\n",
    "for i in range(radios.shape[0]):\n",
    "    if np.isnan(maxvalues[i]):\n",
    "        mejor = np.nan\n",
    "    else:\n",
    "        mejor = radios.columns[radios.loc[i] == minvalues[i]].values[0]\n",
    "    better.append(mejor)\n",
    "    \n",
    "#radios['masRapido'] = better"
   ]
  },
  {
   "cell_type": "code",
   "execution_count": 68,
   "metadata": {
    "collapsed": false
   },
   "outputs": [],
   "source": [
    "radios['mejorMod'] = better"
   ]
  },
  {
   "cell_type": "markdown",
   "metadata": {},
   "source": [
    "/* CSS - Cascading Style Sheet */\n",
    "/* Palette color codes */\n",
    "/* Palette URL: http://paletton.com/#uid=30k0l0kllllwh+PqIvZfYaHaA04 */\n",
    "\n",
    ".color-primary-0 { color: #AA6039 }\t/* Main Primary color */\n",
    ".color-primary-1 { color: #FF5900 }\n",
    ".color-primary-2 { color: #FF742A }\n",
    ".color-primary-3 { color: #553A2B }\n",
    ".color-primary-4 { color: #000000 }\n",
    "\n",
    ".color-secondary-1-0 { color: #28546C }\t/* Main Secondary color (1) */\n",
    ".color-secondary-1-1 { color: #0DAAFE }\n",
    ".color-secondary-1-2 { color: #2275A2 }\n",
    ".color-secondary-1-3 { color: #1D2D36 }\n",
    ".color-secondary-1-4 { color: #000000 }\n",
    "\n",
    ".color-secondary-2-0 { color: #378B2E }\t/* Main Secondary color (2) */\n",
    ".color-secondary-2-1 { color: #18FF00 }\n",
    ".color-secondary-2-2 { color: #33D122 }\n",
    ".color-secondary-2-3 { color: #264623 }\n",
    ".color-secondary-2-4 { color: #000000 }\n",
    "\n",
    "\n"
   ]
  },
  {
   "cell_type": "code",
   "execution_count": 69,
   "metadata": {
    "collapsed": false
   },
   "outputs": [
    {
     "data": {
      "text/html": [
       "<div>\n",
       "<table border=\"1\" class=\"dataframe\">\n",
       "  <thead>\n",
       "    <tr style=\"text-align: right;\">\n",
       "      <th></th>\n",
       "      <th>CO_FRAC_RA</th>\n",
       "      <th>geometry</th>\n",
       "      <th>tiemposMin</th>\n",
       "      <th>x</th>\n",
       "      <th>y</th>\n",
       "      <th>tiemposBici</th>\n",
       "      <th>tiemposAuto</th>\n",
       "      <th>tiemposTransp</th>\n",
       "      <th>mejorMod</th>\n",
       "    </tr>\n",
       "  </thead>\n",
       "  <tbody>\n",
       "    <tr>\n",
       "      <th>0</th>\n",
       "      <td>1_1_1</td>\n",
       "      <td>POLYGON ((108330.8437499999 104181.0937500013,...</td>\n",
       "      <td>21.533333</td>\n",
       "      <td>-58.368253</td>\n",
       "      <td>-34.587126</td>\n",
       "      <td>15.0</td>\n",
       "      <td>10.0</td>\n",
       "      <td>14.0</td>\n",
       "      <td>tiemposAuto</td>\n",
       "    </tr>\n",
       "    <tr>\n",
       "      <th>1</th>\n",
       "      <td>1_12_1</td>\n",
       "      <td>POLYGON ((107042.4609375 102801.421875, 107058...</td>\n",
       "      <td>10.800000</td>\n",
       "      <td>-58.385199</td>\n",
       "      <td>-34.605043</td>\n",
       "      <td>12.0</td>\n",
       "      <td>10.0</td>\n",
       "      <td>8.0</td>\n",
       "      <td>tiemposTransp</td>\n",
       "    </tr>\n",
       "    <tr>\n",
       "      <th>2</th>\n",
       "      <td>1_12_10</td>\n",
       "      <td>POLYGON ((107697.2187500009 102707.15625, 1078...</td>\n",
       "      <td>3.083333</td>\n",
       "      <td>-58.376849</td>\n",
       "      <td>-34.605250</td>\n",
       "      <td>4.0</td>\n",
       "      <td>6.0</td>\n",
       "      <td>8.0</td>\n",
       "      <td>tiemposBici</td>\n",
       "    </tr>\n",
       "    <tr>\n",
       "      <th>3</th>\n",
       "      <td>1_12_11</td>\n",
       "      <td>POLYGON ((108748.546875 102668.9453125009, 108...</td>\n",
       "      <td>3.316667</td>\n",
       "      <td>-58.371612</td>\n",
       "      <td>-34.605709</td>\n",
       "      <td>1.0</td>\n",
       "      <td>2.0</td>\n",
       "      <td>2.0</td>\n",
       "      <td>tiemposBici</td>\n",
       "    </tr>\n",
       "    <tr>\n",
       "      <th>4</th>\n",
       "      <td>1_12_2</td>\n",
       "      <td>POLYGON ((107169.9375 102810.3671875, 107300.3...</td>\n",
       "      <td>11.433333</td>\n",
       "      <td>-58.383781</td>\n",
       "      <td>-34.604953</td>\n",
       "      <td>9.0</td>\n",
       "      <td>7.0</td>\n",
       "      <td>8.0</td>\n",
       "      <td>tiemposAuto</td>\n",
       "    </tr>\n",
       "  </tbody>\n",
       "</table>\n",
       "</div>"
      ],
      "text/plain": [
       "  CO_FRAC_RA                                           geometry  tiemposMin  \\\n",
       "0      1_1_1  POLYGON ((108330.8437499999 104181.0937500013,...   21.533333   \n",
       "1     1_12_1  POLYGON ((107042.4609375 102801.421875, 107058...   10.800000   \n",
       "2    1_12_10  POLYGON ((107697.2187500009 102707.15625, 1078...    3.083333   \n",
       "3    1_12_11  POLYGON ((108748.546875 102668.9453125009, 108...    3.316667   \n",
       "4     1_12_2  POLYGON ((107169.9375 102810.3671875, 107300.3...   11.433333   \n",
       "\n",
       "           x          y  tiemposBici  tiemposAuto  tiemposTransp  \\\n",
       "0 -58.368253 -34.587126         15.0         10.0           14.0   \n",
       "1 -58.385199 -34.605043         12.0         10.0            8.0   \n",
       "2 -58.376849 -34.605250          4.0          6.0            8.0   \n",
       "3 -58.371612 -34.605709          1.0          2.0            2.0   \n",
       "4 -58.383781 -34.604953          9.0          7.0            8.0   \n",
       "\n",
       "        mejorMod  \n",
       "0    tiemposAuto  \n",
       "1  tiemposTransp  \n",
       "2    tiemposBici  \n",
       "3    tiemposBici  \n",
       "4    tiemposAuto  "
      ]
     },
     "execution_count": 69,
     "metadata": {},
     "output_type": "execute_result"
    }
   ],
   "source": [
    "radiosFinal = gpd.read_file('data/radios.shp')\n",
    "radiosFinal = radiosFinal.drop(['x','y','tiemposMin'],axis=1).merge(radios, on = ['CO_FRAC_RA'])\n",
    "radiosFinal.head()\n"
   ]
  },
  {
   "cell_type": "code",
   "execution_count": 70,
   "metadata": {
    "collapsed": true
   },
   "outputs": [],
   "source": [
    "\n",
    "radiosFinal.to_file('radiosFinal')"
   ]
  },
  {
   "cell_type": "code",
   "execution_count": null,
   "metadata": {
    "collapsed": true
   },
   "outputs": [],
   "source": []
  }
 ],
 "metadata": {
  "kernelspec": {
   "display_name": "Python [default]",
   "language": "python",
   "name": "python2"
  },
  "language_info": {
   "codemirror_mode": {
    "name": "ipython",
    "version": 2
   },
   "file_extension": ".py",
   "mimetype": "text/x-python",
   "name": "python",
   "nbconvert_exporter": "python",
   "pygments_lexer": "ipython2",
   "version": "2.7.12"
  }
 },
 "nbformat": 4,
 "nbformat_minor": 2
}
