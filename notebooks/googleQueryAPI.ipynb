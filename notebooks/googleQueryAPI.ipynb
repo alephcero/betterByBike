{
 "cells": [
  {
   "cell_type": "code",
   "execution_count": 1,
   "metadata": {
    "collapsed": true
   },
   "outputs": [],
   "source": [
    "import os\n",
    "import pandas as pd\n",
    "import geopandas as gpd\n",
    "import numpy as np\n",
    "import googlemaps\n",
    "import datetime as dt\n",
    "import time"
   ]
  },
  {
   "cell_type": "code",
   "execution_count": 2,
   "metadata": {
    "collapsed": false
   },
   "outputs": [],
   "source": [
    "#set origin destination\n",
    "destino = (-34.605537,-58.373022,)\n",
    "#origen = (-34.606652,-58.429120)"
   ]
  },
  {
   "cell_type": "code",
   "execution_count": 3,
   "metadata": {
    "collapsed": false
   },
   "outputs": [
    {
     "data": {
      "text/html": [
       "<div>\n",
       "<table border=\"1\" class=\"dataframe\">\n",
       "  <thead>\n",
       "    <tr style=\"text-align: right;\">\n",
       "      <th></th>\n",
       "      <th>CO_FRAC_RA</th>\n",
       "      <th>geometry</th>\n",
       "      <th>centroids</th>\n",
       "    </tr>\n",
       "  </thead>\n",
       "  <tbody>\n",
       "    <tr>\n",
       "      <th>0</th>\n",
       "      <td>1_1_1</td>\n",
       "      <td>POLYGON ((-58.37189352634645 -34.5919935640870...</td>\n",
       "      <td>POINT (-58.36825321588604 -34.58712576284138)</td>\n",
       "    </tr>\n",
       "    <tr>\n",
       "      <th>1</th>\n",
       "      <td>1_12_1</td>\n",
       "      <td>POLYGON ((-58.38592548750878 -34.6044398706025...</td>\n",
       "      <td>POINT (-58.38519884319477 -34.60504293372185)</td>\n",
       "    </tr>\n",
       "    <tr>\n",
       "      <th>2</th>\n",
       "      <td>1_12_10</td>\n",
       "      <td>POLYGON ((-58.37878669239328 -34.6052849003551...</td>\n",
       "      <td>POINT (-58.37684850487353 -34.60525008262525)</td>\n",
       "    </tr>\n",
       "    <tr>\n",
       "      <th>3</th>\n",
       "      <td>1_12_11</td>\n",
       "      <td>POLYGON ((-58.36732497447693 -34.6056209207810...</td>\n",
       "      <td>POINT (-58.37161228851214 -34.60570898563515)</td>\n",
       "    </tr>\n",
       "    <tr>\n",
       "      <th>4</th>\n",
       "      <td>1_12_2</td>\n",
       "      <td>POLYGON ((-58.38453585809192 -34.6043583533245...</td>\n",
       "      <td>POINT (-58.38378034377885 -34.60495283064369)</td>\n",
       "    </tr>\n",
       "  </tbody>\n",
       "</table>\n",
       "</div>"
      ],
      "text/plain": [
       "  CO_FRAC_RA                                           geometry  \\\n",
       "0      1_1_1  POLYGON ((-58.37189352634645 -34.5919935640870...   \n",
       "1     1_12_1  POLYGON ((-58.38592548750878 -34.6044398706025...   \n",
       "2    1_12_10  POLYGON ((-58.37878669239328 -34.6052849003551...   \n",
       "3    1_12_11  POLYGON ((-58.36732497447693 -34.6056209207810...   \n",
       "4     1_12_2  POLYGON ((-58.38453585809192 -34.6043583533245...   \n",
       "\n",
       "                                       centroids  \n",
       "0  POINT (-58.36825321588604 -34.58712576284138)  \n",
       "1  POINT (-58.38519884319477 -34.60504293372185)  \n",
       "2  POINT (-58.37684850487353 -34.60525008262525)  \n",
       "3  POINT (-58.37161228851214 -34.60570898563515)  \n",
       "4  POINT (-58.38378034377885 -34.60495283064369)  "
      ]
     },
     "execution_count": 3,
     "metadata": {},
     "output_type": "execute_result"
    }
   ],
   "source": [
    "#census data\n",
    "radios = gpd.read_file('../data/informacion_censal_por_radio_2010_GKBA/informacion_censal_por_radio_2010.shp')\n",
    "radios = radios.loc[:,['CO_FRAC_RA','geometry']]\n",
    "radios = radios.to_crs(epsg=4326)\n",
    "radios['centroids'] = radios.geometry.centroid\n",
    "radios.head()"
   ]
  },
  {
   "cell_type": "code",
   "execution_count": 4,
   "metadata": {
    "collapsed": false
   },
   "outputs": [],
   "source": [
    "#query function\n",
    "def queryGoogleAPI(origen):\n",
    "    key = os.getenv('GOOGLEAPI')\n",
    "    gmaps = googlemaps.Client(key=key)\n",
    "    travel = gmaps.distance_matrix(origins = origen,\n",
    "                               destinations = destino,\n",
    "                               mode=\"transit\", #driving\n",
    "                               traffic_model=\"best_guess\")\n",
    "    try:\n",
    "        tiempo = travel['rows'][0]['elements'][0]['duration']['value']\n",
    "    except KeyError:\n",
    "        tiempo = np.nan\n",
    "    try:    \n",
    "        dinero = travel['rows'][0]['elements'][0]['fare']['value']\n",
    "    except KeyError:\n",
    "        dinero = np.nan\n",
    "\n",
    "    output = {'tiempo':tiempo,'dinero':dinero}\n",
    "    return output\n"
   ]
  },
  {
   "cell_type": "code",
   "execution_count": 5,
   "metadata": {
    "collapsed": false
   },
   "outputs": [
    {
     "ename": "KeyError",
     "evalue": "'fare'",
     "output_type": "error",
     "traceback": [
      "\u001b[0;31m---------------------------------------------------------------------------\u001b[0m",
      "\u001b[0;31mKeyError\u001b[0m                                  Traceback (most recent call last)",
      "\u001b[0;32m<ipython-input-5-02c31155c91d>\u001b[0m in \u001b[0;36m<module>\u001b[0;34m()\u001b[0m\n\u001b[1;32m     24\u001b[0m             \u001b[0;31m#run googleQuery\u001b[0m\u001b[0;34m\u001b[0m\u001b[0;34m\u001b[0m\u001b[0m\n\u001b[1;32m     25\u001b[0m             \u001b[0morigen\u001b[0m \u001b[0;34m=\u001b[0m \u001b[0;34m(\u001b[0m\u001b[0mradios\u001b[0m\u001b[0;34m.\u001b[0m\u001b[0mcentroids\u001b[0m\u001b[0;34m.\u001b[0m\u001b[0mloc\u001b[0m\u001b[0;34m[\u001b[0m\u001b[0mi\u001b[0m\u001b[0;34m]\u001b[0m\u001b[0;34m.\u001b[0m\u001b[0my\u001b[0m\u001b[0;34m,\u001b[0m\u001b[0mradios\u001b[0m\u001b[0;34m.\u001b[0m\u001b[0mcentroids\u001b[0m\u001b[0;34m.\u001b[0m\u001b[0mloc\u001b[0m\u001b[0;34m[\u001b[0m\u001b[0mi\u001b[0m\u001b[0;34m]\u001b[0m\u001b[0;34m.\u001b[0m\u001b[0mx\u001b[0m\u001b[0;34m)\u001b[0m\u001b[0;34m\u001b[0m\u001b[0m\n\u001b[0;32m---> 26\u001b[0;31m             \u001b[0mqueryResult\u001b[0m \u001b[0;34m=\u001b[0m \u001b[0mqueryGoogleAPI\u001b[0m\u001b[0;34m(\u001b[0m\u001b[0morigen\u001b[0m\u001b[0;34m)\u001b[0m\u001b[0;34m\u001b[0m\u001b[0m\n\u001b[0m\u001b[1;32m     27\u001b[0m             \u001b[0mtiempos\u001b[0m\u001b[0;34m.\u001b[0m\u001b[0mappend\u001b[0m\u001b[0;34m(\u001b[0m\u001b[0mqueryResult\u001b[0m\u001b[0;34m[\u001b[0m\u001b[0;34m'tiempo'\u001b[0m\u001b[0;34m]\u001b[0m\u001b[0;34m)\u001b[0m\u001b[0;34m\u001b[0m\u001b[0m\n\u001b[1;32m     28\u001b[0m             \u001b[0mdinero\u001b[0m\u001b[0;34m.\u001b[0m\u001b[0mappend\u001b[0m\u001b[0;34m(\u001b[0m\u001b[0mqueryResult\u001b[0m\u001b[0;34m[\u001b[0m\u001b[0;34m'dinero'\u001b[0m\u001b[0;34m]\u001b[0m\u001b[0;34m)\u001b[0m\u001b[0;34m\u001b[0m\u001b[0m\n",
      "\u001b[0;32m<ipython-input-4-8eab3dced4eb>\u001b[0m in \u001b[0;36mqueryGoogleAPI\u001b[0;34m(origen)\u001b[0m\n\u001b[1;32m      8\u001b[0m                                traffic_model=\"best_guess\")\n\u001b[1;32m      9\u001b[0m     \u001b[0mtiempo\u001b[0m \u001b[0;34m=\u001b[0m \u001b[0mtravel\u001b[0m\u001b[0;34m[\u001b[0m\u001b[0;34m'rows'\u001b[0m\u001b[0;34m]\u001b[0m\u001b[0;34m[\u001b[0m\u001b[0;36m0\u001b[0m\u001b[0;34m]\u001b[0m\u001b[0;34m[\u001b[0m\u001b[0;34m'elements'\u001b[0m\u001b[0;34m]\u001b[0m\u001b[0;34m[\u001b[0m\u001b[0;36m0\u001b[0m\u001b[0;34m]\u001b[0m\u001b[0;34m[\u001b[0m\u001b[0;34m'duration'\u001b[0m\u001b[0;34m]\u001b[0m\u001b[0;34m[\u001b[0m\u001b[0;34m'value'\u001b[0m\u001b[0;34m]\u001b[0m\u001b[0;34m\u001b[0m\u001b[0m\n\u001b[0;32m---> 10\u001b[0;31m     \u001b[0mdinero\u001b[0m \u001b[0;34m=\u001b[0m \u001b[0mtravel\u001b[0m\u001b[0;34m[\u001b[0m\u001b[0;34m'rows'\u001b[0m\u001b[0;34m]\u001b[0m\u001b[0;34m[\u001b[0m\u001b[0;36m0\u001b[0m\u001b[0;34m]\u001b[0m\u001b[0;34m[\u001b[0m\u001b[0;34m'elements'\u001b[0m\u001b[0;34m]\u001b[0m\u001b[0;34m[\u001b[0m\u001b[0;36m0\u001b[0m\u001b[0;34m]\u001b[0m\u001b[0;34m[\u001b[0m\u001b[0;34m'fare'\u001b[0m\u001b[0;34m]\u001b[0m\u001b[0;34m[\u001b[0m\u001b[0;34m'value'\u001b[0m\u001b[0;34m]\u001b[0m\u001b[0;34m\u001b[0m\u001b[0m\n\u001b[0m\u001b[1;32m     11\u001b[0m     \u001b[0moutput\u001b[0m \u001b[0;34m=\u001b[0m \u001b[0;34m{\u001b[0m\u001b[0;34m'tiempo'\u001b[0m\u001b[0;34m:\u001b[0m\u001b[0mtiempo\u001b[0m\u001b[0;34m,\u001b[0m\u001b[0;34m'dinero'\u001b[0m\u001b[0;34m:\u001b[0m\u001b[0mdinero\u001b[0m\u001b[0;34m}\u001b[0m\u001b[0;34m\u001b[0m\u001b[0m\n\u001b[1;32m     12\u001b[0m     \u001b[0;32mreturn\u001b[0m \u001b[0moutput\u001b[0m\u001b[0;34m\u001b[0m\u001b[0m\n",
      "\u001b[0;31mKeyError\u001b[0m: 'fare'"
     ]
    }
   ],
   "source": [
    "tiempos = []\n",
    "dinero = []\n",
    "\n",
    "googleLimit = 2400\n",
    "lastQueryID = 0\n",
    "\n",
    "while True:\n",
    "    #check if the task is completed\n",
    "    \n",
    "    if len(tiempos) == radios.shape[0]:\n",
    "        break\n",
    "        \n",
    "    #at 9 am\n",
    "    elif ((dt.datetime.now().hour == 9) and (dt.datetime.now().minute == 0)):\n",
    "        \n",
    "        #start running the loop\n",
    "        for i in range(lastQueryID,lastQueryID + googleLimit):\n",
    "            \n",
    "            #check if the task is completed\n",
    "                        \n",
    "            if i == radios.shape[0]:\n",
    "                break\n",
    "            \n",
    "            #run googleQuery\n",
    "            origen = (radios.centroids.loc[i].y,radios.centroids.loc[i].x)\n",
    "            queryResult = queryGoogleAPI(origen)\n",
    "            tiempos.append(queryResult['tiempo'])\n",
    "            dinero.append(queryResult['dinero'])\n",
    "            \n",
    "        #save the last row of the query\n",
    "        lastQueryID = i + 1\n",
    "    \n",
    "    time.sleep(60)\n"
   ]
  },
  {
   "cell_type": "code",
   "execution_count": null,
   "metadata": {
    "collapsed": true
   },
   "outputs": [],
   "source": [
    "radios['tiempos'] = tiempos\n",
    "radios['dinero'] = dinero\n",
    "radios.drop(['centroids'],axis=1,inplace=True)\n",
    "ratios.to_file('../data/googleQuery')"
   ]
  },
  {
   "cell_type": "code",
   "execution_count": null,
   "metadata": {
    "collapsed": true
   },
   "outputs": [],
   "source": []
  }
 ],
 "metadata": {
  "kernelspec": {
   "display_name": "Python 2",
   "language": "python",
   "name": "python2"
  },
  "language_info": {
   "codemirror_mode": {
    "name": "ipython",
    "version": 2
   },
   "file_extension": ".py",
   "mimetype": "text/x-python",
   "name": "python",
   "nbconvert_exporter": "python",
   "pygments_lexer": "ipython2",
   "version": "2.7.13"
  }
 },
 "nbformat": 4,
 "nbformat_minor": 2
}
