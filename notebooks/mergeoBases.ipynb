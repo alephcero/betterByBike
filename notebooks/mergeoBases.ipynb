{
 "cells": [
  {
   "cell_type": "code",
   "execution_count": 21,
   "metadata": {
    "collapsed": true
   },
   "outputs": [],
   "source": [
    "import geopandas as gpd\n",
    "import numpy as np"
   ]
  },
  {
   "cell_type": "code",
   "execution_count": 22,
   "metadata": {
    "collapsed": true
   },
   "outputs": [],
   "source": [
    "driving = gpd.read_file('../data/googleQueryDriving/googleQueryDriving.shp')\n",
    "transit = gpd.read_file('../data/googleQueryTransit/googleQuery.shp')\n",
    "data = gpd.read_file('../data/radiosQuearyCABA/radiosQuearyCABA.shp')\n",
    "data.drop(['mejorMod','x','y'],axis=1,inplace=True)"
   ]
  },
  {
   "cell_type": "code",
   "execution_count": 23,
   "metadata": {
    "collapsed": false
   },
   "outputs": [],
   "source": [
    "data['transitGoog'] = transit.tiempos*1./60 \n",
    "data['geometry'] = transit.geometry\n",
    "data['transitDineroGoog'] = transit.dinero \n",
    "\n",
    "data['driveGoog'] = driving.tiempos*1./60 \n",
    "data['traficGoog'] = driving.trafico*1./60 \n",
    "data['driveTot'] = data.traficGoog + data.driveGoog\n"
   ]
  },
  {
   "cell_type": "code",
   "execution_count": 24,
   "metadata": {
    "collapsed": false
   },
   "outputs": [],
   "source": [
    "data['traficPerc'] = data.traficGoog/data.driveTot\n",
    "data['bikePerc'] = data.tiemposBic / data.driveTot\n",
    "data['bikeVtrafic'] = data.tiemposBic / data.transitGoog.replace(to_replace=0, value=1)\n",
    "\n"
   ]
  },
  {
   "cell_type": "code",
   "execution_count": 25,
   "metadata": {
    "collapsed": false
   },
   "outputs": [
    {
     "data": {
      "text/html": [
       "<div>\n",
       "<table border=\"1\" class=\"dataframe\">\n",
       "  <thead>\n",
       "    <tr style=\"text-align: right;\">\n",
       "      <th></th>\n",
       "      <th>CO_FRAC_RA</th>\n",
       "      <th>geometry</th>\n",
       "      <th>tiemposAut</th>\n",
       "      <th>tiemposBic</th>\n",
       "      <th>tiemposTra</th>\n",
       "      <th>transitGoog</th>\n",
       "      <th>transitDineroGoog</th>\n",
       "      <th>driveGoog</th>\n",
       "      <th>traficGoog</th>\n",
       "      <th>driveTot</th>\n",
       "      <th>traficPerc</th>\n",
       "      <th>bikePerc</th>\n",
       "      <th>bikeVtrafic</th>\n",
       "    </tr>\n",
       "  </thead>\n",
       "  <tbody>\n",
       "    <tr>\n",
       "      <th>0</th>\n",
       "      <td>1_1_1</td>\n",
       "      <td>POLYGON ((-58.37189352634645 -34.5919935640870...</td>\n",
       "      <td>10.0</td>\n",
       "      <td>15.0</td>\n",
       "      <td>14.0</td>\n",
       "      <td>26.683333</td>\n",
       "      <td>6.00</td>\n",
       "      <td>10.683333</td>\n",
       "      <td>16.150000</td>\n",
       "      <td>26.833333</td>\n",
       "      <td>0.601863</td>\n",
       "      <td>0.559006</td>\n",
       "      <td>0.562149</td>\n",
       "    </tr>\n",
       "    <tr>\n",
       "      <th>1</th>\n",
       "      <td>1_12_1</td>\n",
       "      <td>POLYGON ((-58.38592548750878 -34.6044398706025...</td>\n",
       "      <td>10.0</td>\n",
       "      <td>12.0</td>\n",
       "      <td>8.0</td>\n",
       "      <td>12.516667</td>\n",
       "      <td>6.25</td>\n",
       "      <td>10.516667</td>\n",
       "      <td>12.233333</td>\n",
       "      <td>22.750000</td>\n",
       "      <td>0.537729</td>\n",
       "      <td>0.527473</td>\n",
       "      <td>0.958722</td>\n",
       "    </tr>\n",
       "    <tr>\n",
       "      <th>2</th>\n",
       "      <td>1_12_10</td>\n",
       "      <td>POLYGON ((-58.37878669239328 -34.6052849003551...</td>\n",
       "      <td>6.0</td>\n",
       "      <td>4.0</td>\n",
       "      <td>8.0</td>\n",
       "      <td>4.566667</td>\n",
       "      <td>0.00</td>\n",
       "      <td>8.350000</td>\n",
       "      <td>9.700000</td>\n",
       "      <td>18.050000</td>\n",
       "      <td>0.537396</td>\n",
       "      <td>0.221607</td>\n",
       "      <td>0.875912</td>\n",
       "    </tr>\n",
       "    <tr>\n",
       "      <th>3</th>\n",
       "      <td>1_12_11</td>\n",
       "      <td>POLYGON ((-58.36732497447693 -34.6056209207810...</td>\n",
       "      <td>2.0</td>\n",
       "      <td>1.0</td>\n",
       "      <td>2.0</td>\n",
       "      <td>1.616667</td>\n",
       "      <td>0.00</td>\n",
       "      <td>0.616667</td>\n",
       "      <td>0.600000</td>\n",
       "      <td>1.216667</td>\n",
       "      <td>0.493151</td>\n",
       "      <td>0.821918</td>\n",
       "      <td>0.618557</td>\n",
       "    </tr>\n",
       "    <tr>\n",
       "      <th>4</th>\n",
       "      <td>1_12_2</td>\n",
       "      <td>POLYGON ((-58.38453585809192 -34.6043583533245...</td>\n",
       "      <td>7.0</td>\n",
       "      <td>9.0</td>\n",
       "      <td>8.0</td>\n",
       "      <td>9.850000</td>\n",
       "      <td>7.50</td>\n",
       "      <td>7.483333</td>\n",
       "      <td>9.300000</td>\n",
       "      <td>16.783333</td>\n",
       "      <td>0.554121</td>\n",
       "      <td>0.536246</td>\n",
       "      <td>0.913706</td>\n",
       "    </tr>\n",
       "  </tbody>\n",
       "</table>\n",
       "</div>"
      ],
      "text/plain": [
       "  CO_FRAC_RA                                           geometry  tiemposAut  \\\n",
       "0      1_1_1  POLYGON ((-58.37189352634645 -34.5919935640870...        10.0   \n",
       "1     1_12_1  POLYGON ((-58.38592548750878 -34.6044398706025...        10.0   \n",
       "2    1_12_10  POLYGON ((-58.37878669239328 -34.6052849003551...         6.0   \n",
       "3    1_12_11  POLYGON ((-58.36732497447693 -34.6056209207810...         2.0   \n",
       "4     1_12_2  POLYGON ((-58.38453585809192 -34.6043583533245...         7.0   \n",
       "\n",
       "   tiemposBic  tiemposTra  transitGoog  transitDineroGoog  driveGoog  \\\n",
       "0        15.0        14.0    26.683333               6.00  10.683333   \n",
       "1        12.0         8.0    12.516667               6.25  10.516667   \n",
       "2         4.0         8.0     4.566667               0.00   8.350000   \n",
       "3         1.0         2.0     1.616667               0.00   0.616667   \n",
       "4         9.0         8.0     9.850000               7.50   7.483333   \n",
       "\n",
       "   traficGoog   driveTot  traficPerc  bikePerc  bikeVtrafic  \n",
       "0   16.150000  26.833333    0.601863  0.559006     0.562149  \n",
       "1   12.233333  22.750000    0.537729  0.527473     0.958722  \n",
       "2    9.700000  18.050000    0.537396  0.221607     0.875912  \n",
       "3    0.600000   1.216667    0.493151  0.821918     0.618557  \n",
       "4    9.300000  16.783333    0.554121  0.536246     0.913706  "
      ]
     },
     "execution_count": 25,
     "metadata": {},
     "output_type": "execute_result"
    }
   ],
   "source": [
    "data.head()"
   ]
  },
  {
   "cell_type": "code",
   "execution_count": 26,
   "metadata": {
    "collapsed": false
   },
   "outputs": [],
   "source": [
    "data.tiemposBic.replace(to_replace=0, value=np.nan, inplace=True)"
   ]
  },
  {
   "cell_type": "code",
   "execution_count": 27,
   "metadata": {
    "collapsed": false
   },
   "outputs": [],
   "source": [
    "#better mode\n",
    "valores = data.loc[:,['tiemposBic','driveTot','transitGoog']]\n",
    "minvalues = valores.values.min(axis=1)\n",
    "better=[ ]\n",
    "\n",
    "for i in range(data.shape[0]):\n",
    "    if np.isnan(minvalues[i]):\n",
    "        mejor = np.nan\n",
    "    else:\n",
    "        mejor = valores.columns[valores.loc[i] == minvalues[i]].values[0]\n",
    "    better.append(mejor)"
   ]
  },
  {
   "cell_type": "code",
   "execution_count": 28,
   "metadata": {
    "collapsed": true
   },
   "outputs": [],
   "source": [
    "data['mejorMod'] = better"
   ]
  },
  {
   "cell_type": "code",
   "execution_count": 29,
   "metadata": {
    "collapsed": false
   },
   "outputs": [
    {
     "data": {
      "text/plain": [
       "transitGoog    2420\n",
       "tiemposBic      692\n",
       "driveTot        361\n",
       "Name: mejorMod, dtype: int64"
      ]
     },
     "execution_count": 29,
     "metadata": {},
     "output_type": "execute_result"
    }
   ],
   "source": [
    "data.mejorMod.value_counts()"
   ]
  },
  {
   "cell_type": "code",
   "execution_count": 30,
   "metadata": {
    "collapsed": false
   },
   "outputs": [
    {
     "data": {
      "text/plain": [
       "{'init': u'epsg:4326'}"
      ]
     },
     "execution_count": 30,
     "metadata": {},
     "output_type": "execute_result"
    }
   ],
   "source": [
    "data.crs"
   ]
  },
  {
   "cell_type": "code",
   "execution_count": 33,
   "metadata": {
    "collapsed": false
   },
   "outputs": [],
   "source": [
    "data = data.to_crs(epsg=22185)"
   ]
  },
  {
   "cell_type": "code",
   "execution_count": 34,
   "metadata": {
    "collapsed": true
   },
   "outputs": [],
   "source": [
    "data.to_file('../data/basefinal/')"
   ]
  },
  {
   "cell_type": "code",
   "execution_count": 20,
   "metadata": {
    "collapsed": false
   },
   "outputs": [
    {
     "data": {
      "text/plain": [
       "count    3473.000000\n",
       "mean        1.290987\n",
       "std         0.344073\n",
       "min         0.304878\n",
       "25%         1.058540\n",
       "50%         1.299639\n",
       "75%         1.527531\n",
       "max         2.520730\n",
       "Name: bikeVtrafic, dtype: float64"
      ]
     },
     "execution_count": 20,
     "metadata": {},
     "output_type": "execute_result"
    }
   ],
   "source": [
    "data.bikeVtrafic.describe()"
   ]
  },
  {
   "cell_type": "code",
   "execution_count": null,
   "metadata": {
    "collapsed": true
   },
   "outputs": [],
   "source": []
  }
 ],
 "metadata": {
  "anaconda-cloud": {},
  "kernelspec": {
   "display_name": "Python [default]",
   "language": "python",
   "name": "python2"
  },
  "language_info": {
   "codemirror_mode": {
    "name": "ipython",
    "version": 2
   },
   "file_extension": ".py",
   "mimetype": "text/x-python",
   "name": "python",
   "nbconvert_exporter": "python",
   "pygments_lexer": "ipython2",
   "version": "2.7.12"
  }
 },
 "nbformat": 4,
 "nbformat_minor": 2
}
