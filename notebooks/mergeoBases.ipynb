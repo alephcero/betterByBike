{
 "cells": [
  {
   "cell_type": "code",
   "execution_count": 1,
   "metadata": {
    "collapsed": true
   },
   "outputs": [],
   "source": [
    "import geopandas as gpd"
   ]
  },
  {
   "cell_type": "code",
   "execution_count": 2,
   "metadata": {
    "collapsed": true
   },
   "outputs": [],
   "source": [
    "driving = gpd.read_file('../data/googleQueryDriving/googleQueryDriving.shp')\n",
    "transit = gpd.read_file('../data/googleQueryTransit/googleQuery.shp')"
   ]
  },
  {
   "cell_type": "code",
   "execution_count": 3,
   "metadata": {
    "collapsed": false
   },
   "outputs": [
    {
     "data": {
      "text/html": [
       "<div>\n",
       "<table border=\"1\" class=\"dataframe\">\n",
       "  <thead>\n",
       "    <tr style=\"text-align: right;\">\n",
       "      <th></th>\n",
       "      <th>CO_FRAC_RA</th>\n",
       "      <th>geometry</th>\n",
       "      <th>tiempos</th>\n",
       "      <th>trafico</th>\n",
       "    </tr>\n",
       "  </thead>\n",
       "  <tbody>\n",
       "    <tr>\n",
       "      <th>0</th>\n",
       "      <td>1_1_1</td>\n",
       "      <td>POLYGON ((-58.37189352634645 -34.5919935640870...</td>\n",
       "      <td>641</td>\n",
       "      <td>969.0</td>\n",
       "    </tr>\n",
       "    <tr>\n",
       "      <th>1</th>\n",
       "      <td>1_12_1</td>\n",
       "      <td>POLYGON ((-58.38592548750878 -34.6044398706025...</td>\n",
       "      <td>631</td>\n",
       "      <td>734.0</td>\n",
       "    </tr>\n",
       "    <tr>\n",
       "      <th>2</th>\n",
       "      <td>1_12_10</td>\n",
       "      <td>POLYGON ((-58.37878669239328 -34.6052849003551...</td>\n",
       "      <td>501</td>\n",
       "      <td>582.0</td>\n",
       "    </tr>\n",
       "    <tr>\n",
       "      <th>3</th>\n",
       "      <td>1_12_11</td>\n",
       "      <td>POLYGON ((-58.36732497447693 -34.6056209207810...</td>\n",
       "      <td>37</td>\n",
       "      <td>36.0</td>\n",
       "    </tr>\n",
       "    <tr>\n",
       "      <th>4</th>\n",
       "      <td>1_12_2</td>\n",
       "      <td>POLYGON ((-58.38453585809192 -34.6043583533245...</td>\n",
       "      <td>449</td>\n",
       "      <td>558.0</td>\n",
       "    </tr>\n",
       "  </tbody>\n",
       "</table>\n",
       "</div>"
      ],
      "text/plain": [
       "  CO_FRAC_RA                                           geometry  tiempos  \\\n",
       "0      1_1_1  POLYGON ((-58.37189352634645 -34.5919935640870...      641   \n",
       "1     1_12_1  POLYGON ((-58.38592548750878 -34.6044398706025...      631   \n",
       "2    1_12_10  POLYGON ((-58.37878669239328 -34.6052849003551...      501   \n",
       "3    1_12_11  POLYGON ((-58.36732497447693 -34.6056209207810...       37   \n",
       "4     1_12_2  POLYGON ((-58.38453585809192 -34.6043583533245...      449   \n",
       "\n",
       "   trafico  \n",
       "0    969.0  \n",
       "1    734.0  \n",
       "2    582.0  \n",
       "3     36.0  \n",
       "4    558.0  "
      ]
     },
     "execution_count": 3,
     "metadata": {},
     "output_type": "execute_result"
    }
   ],
   "source": [
    "driving.head()"
   ]
  },
  {
   "cell_type": "code",
   "execution_count": 4,
   "metadata": {
    "collapsed": false
   },
   "outputs": [
    {
     "data": {
      "text/html": [
       "<div>\n",
       "<table border=\"1\" class=\"dataframe\">\n",
       "  <thead>\n",
       "    <tr style=\"text-align: right;\">\n",
       "      <th></th>\n",
       "      <th>CO_FRAC_RA</th>\n",
       "      <th>dinero</th>\n",
       "      <th>geometry</th>\n",
       "      <th>tiempos</th>\n",
       "    </tr>\n",
       "  </thead>\n",
       "  <tbody>\n",
       "    <tr>\n",
       "      <th>0</th>\n",
       "      <td>1_1_1</td>\n",
       "      <td>6.00</td>\n",
       "      <td>POLYGON ((-58.37189352634645 -34.5919935640870...</td>\n",
       "      <td>1601</td>\n",
       "    </tr>\n",
       "    <tr>\n",
       "      <th>1</th>\n",
       "      <td>1_12_1</td>\n",
       "      <td>6.25</td>\n",
       "      <td>POLYGON ((-58.38592548750878 -34.6044398706025...</td>\n",
       "      <td>751</td>\n",
       "    </tr>\n",
       "    <tr>\n",
       "      <th>2</th>\n",
       "      <td>1_12_10</td>\n",
       "      <td>NaN</td>\n",
       "      <td>POLYGON ((-58.37878669239328 -34.6052849003551...</td>\n",
       "      <td>274</td>\n",
       "    </tr>\n",
       "    <tr>\n",
       "      <th>3</th>\n",
       "      <td>1_12_11</td>\n",
       "      <td>NaN</td>\n",
       "      <td>POLYGON ((-58.36732497447693 -34.6056209207810...</td>\n",
       "      <td>97</td>\n",
       "    </tr>\n",
       "    <tr>\n",
       "      <th>4</th>\n",
       "      <td>1_12_2</td>\n",
       "      <td>7.50</td>\n",
       "      <td>POLYGON ((-58.38453585809192 -34.6043583533245...</td>\n",
       "      <td>591</td>\n",
       "    </tr>\n",
       "  </tbody>\n",
       "</table>\n",
       "</div>"
      ],
      "text/plain": [
       "  CO_FRAC_RA  dinero                                           geometry  \\\n",
       "0      1_1_1    6.00  POLYGON ((-58.37189352634645 -34.5919935640870...   \n",
       "1     1_12_1    6.25  POLYGON ((-58.38592548750878 -34.6044398706025...   \n",
       "2    1_12_10     NaN  POLYGON ((-58.37878669239328 -34.6052849003551...   \n",
       "3    1_12_11     NaN  POLYGON ((-58.36732497447693 -34.6056209207810...   \n",
       "4     1_12_2    7.50  POLYGON ((-58.38453585809192 -34.6043583533245...   \n",
       "\n",
       "   tiempos  \n",
       "0     1601  \n",
       "1      751  \n",
       "2      274  \n",
       "3       97  \n",
       "4      591  "
      ]
     },
     "execution_count": 4,
     "metadata": {},
     "output_type": "execute_result"
    }
   ],
   "source": [
    "transit.head()"
   ]
  },
  {
   "cell_type": "code",
   "execution_count": 14,
   "metadata": {
    "collapsed": false
   },
   "outputs": [
    {
     "data": {
      "text/html": [
       "<div>\n",
       "<table border=\"1\" class=\"dataframe\">\n",
       "  <thead>\n",
       "    <tr style=\"text-align: right;\">\n",
       "      <th></th>\n",
       "      <th>CO_FRAC_RA</th>\n",
       "      <th>geometry</th>\n",
       "      <th>tiemposAut</th>\n",
       "      <th>tiemposBic</th>\n",
       "      <th>tiemposTra</th>\n",
       "    </tr>\n",
       "  </thead>\n",
       "  <tbody>\n",
       "    <tr>\n",
       "      <th>0</th>\n",
       "      <td>1_1_1</td>\n",
       "      <td>POLYGON ((108330.8437499999 104181.0937500013,...</td>\n",
       "      <td>10.0</td>\n",
       "      <td>15.0</td>\n",
       "      <td>14.0</td>\n",
       "    </tr>\n",
       "    <tr>\n",
       "      <th>1</th>\n",
       "      <td>1_12_1</td>\n",
       "      <td>POLYGON ((107042.4609375 102801.421875, 107058...</td>\n",
       "      <td>10.0</td>\n",
       "      <td>12.0</td>\n",
       "      <td>8.0</td>\n",
       "    </tr>\n",
       "    <tr>\n",
       "      <th>2</th>\n",
       "      <td>1_12_10</td>\n",
       "      <td>POLYGON ((107697.2187500009 102707.15625, 1078...</td>\n",
       "      <td>6.0</td>\n",
       "      <td>4.0</td>\n",
       "      <td>8.0</td>\n",
       "    </tr>\n",
       "    <tr>\n",
       "      <th>3</th>\n",
       "      <td>1_12_11</td>\n",
       "      <td>POLYGON ((108748.546875 102668.9453125009, 108...</td>\n",
       "      <td>2.0</td>\n",
       "      <td>1.0</td>\n",
       "      <td>2.0</td>\n",
       "    </tr>\n",
       "    <tr>\n",
       "      <th>4</th>\n",
       "      <td>1_12_2</td>\n",
       "      <td>POLYGON ((107169.9375 102810.3671875, 107300.3...</td>\n",
       "      <td>7.0</td>\n",
       "      <td>9.0</td>\n",
       "      <td>8.0</td>\n",
       "    </tr>\n",
       "  </tbody>\n",
       "</table>\n",
       "</div>"
      ],
      "text/plain": [
       "  CO_FRAC_RA                                           geometry  tiemposAut  \\\n",
       "0      1_1_1  POLYGON ((108330.8437499999 104181.0937500013,...        10.0   \n",
       "1     1_12_1  POLYGON ((107042.4609375 102801.421875, 107058...        10.0   \n",
       "2    1_12_10  POLYGON ((107697.2187500009 102707.15625, 1078...         6.0   \n",
       "3    1_12_11  POLYGON ((108748.546875 102668.9453125009, 108...         2.0   \n",
       "4     1_12_2  POLYGON ((107169.9375 102810.3671875, 107300.3...         7.0   \n",
       "\n",
       "   tiemposBic  tiemposTra  \n",
       "0        15.0        14.0  \n",
       "1        12.0         8.0  \n",
       "2         4.0         8.0  \n",
       "3         1.0         2.0  \n",
       "4         9.0         8.0  "
      ]
     },
     "execution_count": 14,
     "metadata": {},
     "output_type": "execute_result"
    }
   ],
   "source": [
    "data = gpd.read_file('../data/radiosQuearyCABA/radiosQuearyCABA.shp')\n",
    "data.drop(['mejorMod','x','y'],axis=1,inplace=True)\n",
    "data.head()"
   ]
  },
  {
   "cell_type": "code",
   "execution_count": 15,
   "metadata": {
    "collapsed": false
   },
   "outputs": [
    {
     "data": {
      "text/html": [
       "<div>\n",
       "<table border=\"1\" class=\"dataframe\">\n",
       "  <thead>\n",
       "    <tr style=\"text-align: right;\">\n",
       "      <th></th>\n",
       "      <th>CO_FRAC_RA</th>\n",
       "      <th>geometry</th>\n",
       "      <th>tiemposAut</th>\n",
       "      <th>tiemposBic</th>\n",
       "      <th>tiemposTra</th>\n",
       "      <th>transitGoog</th>\n",
       "      <th>driveGoog</th>\n",
       "      <th>traficGoog</th>\n",
       "    </tr>\n",
       "  </thead>\n",
       "  <tbody>\n",
       "    <tr>\n",
       "      <th>0</th>\n",
       "      <td>1_1_1</td>\n",
       "      <td>POLYGON ((108330.8437499999 104181.0937500013,...</td>\n",
       "      <td>10.0</td>\n",
       "      <td>15.0</td>\n",
       "      <td>14.0</td>\n",
       "      <td>26.683333</td>\n",
       "      <td>10.683333</td>\n",
       "      <td>16.150000</td>\n",
       "    </tr>\n",
       "    <tr>\n",
       "      <th>1</th>\n",
       "      <td>1_12_1</td>\n",
       "      <td>POLYGON ((107042.4609375 102801.421875, 107058...</td>\n",
       "      <td>10.0</td>\n",
       "      <td>12.0</td>\n",
       "      <td>8.0</td>\n",
       "      <td>12.516667</td>\n",
       "      <td>10.516667</td>\n",
       "      <td>12.233333</td>\n",
       "    </tr>\n",
       "    <tr>\n",
       "      <th>2</th>\n",
       "      <td>1_12_10</td>\n",
       "      <td>POLYGON ((107697.2187500009 102707.15625, 1078...</td>\n",
       "      <td>6.0</td>\n",
       "      <td>4.0</td>\n",
       "      <td>8.0</td>\n",
       "      <td>4.566667</td>\n",
       "      <td>8.350000</td>\n",
       "      <td>9.700000</td>\n",
       "    </tr>\n",
       "    <tr>\n",
       "      <th>3</th>\n",
       "      <td>1_12_11</td>\n",
       "      <td>POLYGON ((108748.546875 102668.9453125009, 108...</td>\n",
       "      <td>2.0</td>\n",
       "      <td>1.0</td>\n",
       "      <td>2.0</td>\n",
       "      <td>1.616667</td>\n",
       "      <td>0.616667</td>\n",
       "      <td>0.600000</td>\n",
       "    </tr>\n",
       "    <tr>\n",
       "      <th>4</th>\n",
       "      <td>1_12_2</td>\n",
       "      <td>POLYGON ((107169.9375 102810.3671875, 107300.3...</td>\n",
       "      <td>7.0</td>\n",
       "      <td>9.0</td>\n",
       "      <td>8.0</td>\n",
       "      <td>9.850000</td>\n",
       "      <td>7.483333</td>\n",
       "      <td>9.300000</td>\n",
       "    </tr>\n",
       "  </tbody>\n",
       "</table>\n",
       "</div>"
      ],
      "text/plain": [
       "  CO_FRAC_RA                                           geometry  tiemposAut  \\\n",
       "0      1_1_1  POLYGON ((108330.8437499999 104181.0937500013,...        10.0   \n",
       "1     1_12_1  POLYGON ((107042.4609375 102801.421875, 107058...        10.0   \n",
       "2    1_12_10  POLYGON ((107697.2187500009 102707.15625, 1078...         6.0   \n",
       "3    1_12_11  POLYGON ((108748.546875 102668.9453125009, 108...         2.0   \n",
       "4     1_12_2  POLYGON ((107169.9375 102810.3671875, 107300.3...         7.0   \n",
       "\n",
       "   tiemposBic  tiemposTra  transitGoog  driveGoog  traficGoog  \n",
       "0        15.0        14.0    26.683333  10.683333   16.150000  \n",
       "1        12.0         8.0    12.516667  10.516667   12.233333  \n",
       "2         4.0         8.0     4.566667   8.350000    9.700000  \n",
       "3         1.0         2.0     1.616667   0.616667    0.600000  \n",
       "4         9.0         8.0     9.850000   7.483333    9.300000  "
      ]
     },
     "execution_count": 15,
     "metadata": {},
     "output_type": "execute_result"
    }
   ],
   "source": [
    "data['transitGoog'] = transit.tiempos*1./60 \n",
    "data['driveGoog'] = driving.tiempos*1./60 \n",
    "data['traficGoog'] = driving.trafico*1./60 \n",
    "data.head()"
   ]
  },
  {
   "cell_type": "code",
   "execution_count": 16,
   "metadata": {
    "collapsed": false
   },
   "outputs": [
    {
     "data": {
      "text/html": [
       "<div>\n",
       "<table border=\"1\" class=\"dataframe\">\n",
       "  <thead>\n",
       "    <tr style=\"text-align: right;\">\n",
       "      <th></th>\n",
       "      <th>CO_FRAC_RA</th>\n",
       "      <th>geometry</th>\n",
       "      <th>tiemposAut</th>\n",
       "      <th>tiemposBic</th>\n",
       "      <th>tiemposTra</th>\n",
       "      <th>transitGoog</th>\n",
       "      <th>driveGoog</th>\n",
       "      <th>traficGoog</th>\n",
       "      <th>driveTot</th>\n",
       "    </tr>\n",
       "  </thead>\n",
       "  <tbody>\n",
       "    <tr>\n",
       "      <th>0</th>\n",
       "      <td>1_1_1</td>\n",
       "      <td>POLYGON ((108330.8437499999 104181.0937500013,...</td>\n",
       "      <td>10.0</td>\n",
       "      <td>15.0</td>\n",
       "      <td>14.0</td>\n",
       "      <td>26.683333</td>\n",
       "      <td>10.683333</td>\n",
       "      <td>16.150000</td>\n",
       "      <td>26.833333</td>\n",
       "    </tr>\n",
       "    <tr>\n",
       "      <th>1</th>\n",
       "      <td>1_12_1</td>\n",
       "      <td>POLYGON ((107042.4609375 102801.421875, 107058...</td>\n",
       "      <td>10.0</td>\n",
       "      <td>12.0</td>\n",
       "      <td>8.0</td>\n",
       "      <td>12.516667</td>\n",
       "      <td>10.516667</td>\n",
       "      <td>12.233333</td>\n",
       "      <td>22.750000</td>\n",
       "    </tr>\n",
       "    <tr>\n",
       "      <th>2</th>\n",
       "      <td>1_12_10</td>\n",
       "      <td>POLYGON ((107697.2187500009 102707.15625, 1078...</td>\n",
       "      <td>6.0</td>\n",
       "      <td>4.0</td>\n",
       "      <td>8.0</td>\n",
       "      <td>4.566667</td>\n",
       "      <td>8.350000</td>\n",
       "      <td>9.700000</td>\n",
       "      <td>18.050000</td>\n",
       "    </tr>\n",
       "    <tr>\n",
       "      <th>3</th>\n",
       "      <td>1_12_11</td>\n",
       "      <td>POLYGON ((108748.546875 102668.9453125009, 108...</td>\n",
       "      <td>2.0</td>\n",
       "      <td>1.0</td>\n",
       "      <td>2.0</td>\n",
       "      <td>1.616667</td>\n",
       "      <td>0.616667</td>\n",
       "      <td>0.600000</td>\n",
       "      <td>1.216667</td>\n",
       "    </tr>\n",
       "    <tr>\n",
       "      <th>4</th>\n",
       "      <td>1_12_2</td>\n",
       "      <td>POLYGON ((107169.9375 102810.3671875, 107300.3...</td>\n",
       "      <td>7.0</td>\n",
       "      <td>9.0</td>\n",
       "      <td>8.0</td>\n",
       "      <td>9.850000</td>\n",
       "      <td>7.483333</td>\n",
       "      <td>9.300000</td>\n",
       "      <td>16.783333</td>\n",
       "    </tr>\n",
       "  </tbody>\n",
       "</table>\n",
       "</div>"
      ],
      "text/plain": [
       "  CO_FRAC_RA                                           geometry  tiemposAut  \\\n",
       "0      1_1_1  POLYGON ((108330.8437499999 104181.0937500013,...        10.0   \n",
       "1     1_12_1  POLYGON ((107042.4609375 102801.421875, 107058...        10.0   \n",
       "2    1_12_10  POLYGON ((107697.2187500009 102707.15625, 1078...         6.0   \n",
       "3    1_12_11  POLYGON ((108748.546875 102668.9453125009, 108...         2.0   \n",
       "4     1_12_2  POLYGON ((107169.9375 102810.3671875, 107300.3...         7.0   \n",
       "\n",
       "   tiemposBic  tiemposTra  transitGoog  driveGoog  traficGoog   driveTot  \n",
       "0        15.0        14.0    26.683333  10.683333   16.150000  26.833333  \n",
       "1        12.0         8.0    12.516667  10.516667   12.233333  22.750000  \n",
       "2         4.0         8.0     4.566667   8.350000    9.700000  18.050000  \n",
       "3         1.0         2.0     1.616667   0.616667    0.600000   1.216667  \n",
       "4         9.0         8.0     9.850000   7.483333    9.300000  16.783333  "
      ]
     },
     "execution_count": 16,
     "metadata": {},
     "output_type": "execute_result"
    }
   ],
   "source": [
    "data['driveTot'] = data.traficGoog + data.driveGoog\n",
    "data.head()"
   ]
  },
  {
   "cell_type": "code",
   "execution_count": 17,
   "metadata": {
    "collapsed": true
   },
   "outputs": [],
   "source": [
    "data['traficPerc'] = data.traficGoog/data.driveTot"
   ]
  },
  {
   "cell_type": "code",
   "execution_count": 19,
   "metadata": {
    "collapsed": false
   },
   "outputs": [],
   "source": [
    "data['bikePerc'] = data.tiemposBic / data.driveTot"
   ]
  },
  {
   "cell_type": "code",
   "execution_count": 20,
   "metadata": {
    "collapsed": true
   },
   "outputs": [],
   "source": [
    "data.to_file('../data/basefinal/')"
   ]
  },
  {
   "cell_type": "code",
   "execution_count": null,
   "metadata": {
    "collapsed": true
   },
   "outputs": [],
   "source": []
  }
 ],
 "metadata": {
  "kernelspec": {
   "display_name": "Python 2",
   "language": "python",
   "name": "python2"
  },
  "language_info": {
   "codemirror_mode": {
    "name": "ipython",
    "version": 2
   },
   "file_extension": ".py",
   "mimetype": "text/x-python",
   "name": "python",
   "nbconvert_exporter": "python",
   "pygments_lexer": "ipython2",
   "version": "2.7.13"
  }
 },
 "nbformat": 4,
 "nbformat_minor": 2
}
